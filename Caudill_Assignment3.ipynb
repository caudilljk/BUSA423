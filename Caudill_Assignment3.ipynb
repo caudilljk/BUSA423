{
 "cells": [
  {
   "cell_type": "markdown",
   "metadata": {},
   "source": [
    "## BUSA 423 - Assignment 3\n",
    "James Caudill - BUSA423.01W"
   ]
  },
  {
   "cell_type": "markdown",
   "metadata": {},
   "source": [
    "### Question 1 - Create a class to hold student records\n",
    "\n",
    "- Each student has the following properties\n",
    "    - firstName\n",
    "    - lastName\n",
    "    - country\n",
    "    - grade (0.0-4.0 scale)\n",
    "    - credits complete (total 30)\n",
    "    - major\n",
    "- create a method to show the students progress\n",
    "    - \"Good\" if grades > 3.0 and credits complete > 20\n",
    "    - \"Average\" if grades > 2.5 and credits > 10 and credits < 20\n",
    "    - \"Bad\" if grades < 2.5"
   ]
  },
  {
   "cell_type": "code",
   "execution_count": null,
   "metadata": {},
   "outputs": [],
   "source": [
    "# Solution - 1\n",
    "\n",
    "class studentRecord:\n",
    "    def __init__(me, firstName, lastName, country, grade, credits, major):\n",
    "        me.firstName = firstName\n",
    "        me.lastName = lastName\n",
    "        me.country = country\n",
    "        me.grade = grade\n",
    "        me.credits = credits\n",
    "        me.major = major\n",
    "    \n",
    "    def showProgress(me):\n",
    "        if me.grade > 3.0 and me.credits > 20:\n",
    "            print(\"Good\")\n",
    "        elif me.grade > 2.5 and me.credits > 10 and me.credits < 20:\n",
    "            print(\"Average\")\n",
    "        elif me.grade < 2.5:\n",
    "            print(\"Bad\")\n",
    "        else:\n",
    "            print(\"I am not sure?\")\n",
    "            \n",
    "\n",
    "\n",
    "student1 = studentRecord('James', 'Caudill', 'USA', 3.8, 26, 'Business Analytics')\n",
    "\n",
    "student1.showProgress()\n"
   ]
  },
  {
   "cell_type": "markdown",
   "metadata": {},
   "source": [
    "## Question 2\n",
    "\n",
    "Write a function that seperates a list of numbers into positive and negative. \n",
    "\n",
    "*input: [-6, 5, -3, -2, 1, 0, -8, 9, 3]* \\\n",
    "*output: [-6, -3, -2, -8], [5, 1, 9, 3]*"
   ]
  },
  {
   "cell_type": "code",
   "execution_count": null,
   "metadata": {},
   "outputs": [],
   "source": [
    "# Solution -2 \n",
    "\n",
    "def seperateNumbers(listIn):\n",
    "    listOut = [[],[]]                   #step 1\n",
    "    for x in listIn:                    # n\n",
    "        if x < 0:                       # n1\n",
    "            listOut[0].append(x)\n",
    "        elif x > 0:\n",
    "            listOut[1].append(x)\n",
    "    return listOut                      #step 2         # O(2n) drop the coefficients O(n)\n",
    "\n",
    "numList = [-6, 5, -3, -2, 1, 0, -8, 9, 3]\n",
    "print(seperateNumbers(numList))\n",
    "\n"
   ]
  },
  {
   "cell_type": "markdown",
   "metadata": {},
   "source": [
    "## Question 3 \n",
    "\n",
    "Write a function which outputs all dealer possibilities that beat a given player's score. \n",
    "- assume palyers score 15 <= x => 21. \n",
    "- assume dealer only draws two cards. \n",
    "- face cards = 10\n",
    "- black jack rules closest to 21 without going over. "
   ]
  },
  {
   "cell_type": "code",
   "execution_count": 1,
   "metadata": {},
   "outputs": [
    {
     "name": "stdout",
     "output_type": "stream",
     "text": [
      "1\n",
      "2\n",
      "3\n",
      "4\n",
      "5\n",
      "6\n",
      "7\n",
      "8\n",
      "9\n",
      "10\n",
      "11\n",
      "[[8, 11], [9, 10], [9, 11], [10, 9], [10, 10], [10, 11], [11, 8], [11, 9], [11, 10]]\n"
     ]
    }
   ],
   "source": [
    "# Solution 3\n",
    "\n",
    "def theDeal(playersScore):\n",
    "    dealerCards = []\n",
    "    \n",
    "    for i in range(1,12):\n",
    "        for j in range(1,12):        \n",
    "            if i + j > 21:      # [11,11] is not a winner \n",
    "                continue\n",
    "            elif i + j > playersScore:\n",
    "                dealerCards.append([i,j]) \n",
    "    return dealerCards\n",
    "\n",
    "print(theDeal(18))"
   ]
  },
  {
   "cell_type": "markdown",
   "metadata": {},
   "source": [
    "## Question 4\n",
    "\n",
    "Calculate the number of steps and Big O order for the programs in question 2 and 3. \n",
    "\n",
    "- Q2 has 3 steps and is O(n)\n",
    "- Q3 has 123 (11 x 11 + 2) steps but is O(1) since n is 1 and only used for a comparison. "
   ]
  }
 ],
 "metadata": {
  "kernelspec": {
   "display_name": "Python 3.10.5 64-bit",
   "language": "python",
   "name": "python3"
  },
  "language_info": {
   "codemirror_mode": {
    "name": "ipython",
    "version": 3
   },
   "file_extension": ".py",
   "mimetype": "text/x-python",
   "name": "python",
   "nbconvert_exporter": "python",
   "pygments_lexer": "ipython3",
   "version": "3.10.5"
  },
  "orig_nbformat": 4,
  "vscode": {
   "interpreter": {
    "hash": "807cc6a481f25a5b222cd58a3949a299ed2f2634387eaba6775d5c01f71eeb59"
   }
  }
 },
 "nbformat": 4,
 "nbformat_minor": 2
}
