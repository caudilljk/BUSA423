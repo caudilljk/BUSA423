{
 "cells": [
  {
   "cell_type": "markdown",
   "id": "bc203c58",
   "metadata": {},
   "source": [
    "## Practice Questions - Strings & Data Structures"
   ]
  },
  {
   "cell_type": "markdown",
   "id": "44bd5425",
   "metadata": {},
   "source": [
    "#### Question 1: \n",
    "\n",
    "Given an original list consiting of values: 22, 41, 33, 66, 8, 12 and 90. Use **append(), extend(), insert(), and concatenation** to add the values 32, 45, 16 and 11 to the list. "
   ]
  },
  {
   "cell_type": "code",
   "execution_count": 1,
   "id": "67d75946",
   "metadata": {},
   "outputs": [
    {
     "name": "stdout",
     "output_type": "stream",
     "text": [
      "[22, 41, 33, 66, 8, 12, 90, 32, 45, 16, 11]\n"
     ]
    }
   ],
   "source": [
    "# Solution - 1 \n",
    "\n",
    "# the original list\n",
    "original = [22, 41, 33, 66, 8, 12, 90]\n",
    "\n",
    "# append() the second value skipping the first for instertion\n",
    "original.append(45)\n",
    "\n",
    "# extend() using the third value\n",
    "original.extend([16])\n",
    "\n",
    "# insert() the First value into it's spot at the beginning of the appended list\n",
    "original.insert(7, 32)\n",
    "\n",
    "# + the fourth and final value\n",
    "original = original + [11]\n",
    "\n",
    "print(original)"
   ]
  },
  {
   "cell_type": "markdown",
   "id": "9bdbb16a",
   "metadata": {},
   "source": [
    "#### Question 2: \n",
    "\n",
    "Write a Python program that tests whether a list is empty or not. Repeat the task for testing an empty string."
   ]
  },
  {
   "cell_type": "code",
   "execution_count": 2,
   "id": "152a1ba8",
   "metadata": {},
   "outputs": [
    {
     "name": "stdout",
     "output_type": "stream",
     "text": [
      "This list is not empty yet\n",
      "Popping 6\n",
      "This list is not empty yet\n",
      "Popping 5\n",
      "This list is not empty yet\n",
      "Popping 4\n",
      "This list is not empty yet\n",
      "Popping 3\n",
      "This list is not empty yet\n",
      "Popping 2\n",
      "This list is not empty yet\n",
      "Popping 1\n",
      "Now it is!!\n",
      "This string is not empty yet\n",
      "Removing W\n",
      "This string is not empty yet\n",
      "Removing 1\n",
      "This string is not empty yet\n",
      "Removing 0\n",
      "This string is not empty yet\n",
      "Removing .\n",
      "This string is not empty yet\n",
      "Removing 3\n",
      "This string is not empty yet\n",
      "Removing 2\n",
      "This string is not empty yet\n",
      "Removing 4\n",
      "This string is not empty yet\n",
      "Removing A\n",
      "This string is not empty yet\n",
      "Removing S\n",
      "This string is not empty yet\n",
      "Removing U\n",
      "This string is not empty yet\n",
      "Removing B\n",
      "Now it is!!\n"
     ]
    }
   ],
   "source": [
    "# Solution - 2\n",
    "\n",
    "myList = [1,2,3,4,5,6]                                  # create a not empty list\n",
    "\n",
    "while len(myList) > 0:                                  # check if list is empty\n",
    "    lastIndex = len(myList)-1\n",
    "    print (\"This list is not empty yet\")\n",
    "    print (\"Popping \" + str(myList[lastIndex]))\n",
    "    myList.pop(lastIndex)                               # if the list is not empty pop the last item from the list\n",
    "print (\"Now it is!!\")                                   # after all items have been popped from the list it is now empty. \n",
    "\n",
    "myString = \"BUSA423.01W\"                                # create a not empty string\n",
    "\n",
    "while len(myString) > 0:                                # iterate through the string \n",
    "    lastIndex = len(myString)-1\n",
    "    print (\"This string is not empty yet\")\n",
    "    print (\"Removing \" + str(myString[lastIndex]))\n",
    "    tempString = \"\" \n",
    "    for i in range(lastIndex):                          # create a tempString that holds the current string less the last char\n",
    "        tempString = tempString + myString[i]\n",
    "    myString = tempString                               # assign the tempString to myString\n",
    "print (\"Now it is!!\")                                   # after all the characters are removed the string is now empty."
   ]
  },
  {
   "cell_type": "markdown",
   "id": "927cce91",
   "metadata": {},
   "source": [
    "#### Question 3: \n",
    "\n",
    "- How many times does \"dream\" appear in the text?\n",
    "\n",
    "- Where is this text from? \n",
    "\n",
    "- Create a python code to print the text. \n",
    "\n",
    "*Added line numbers for visualization*\n",
    "\n",
    "1. Dream on\\\n",
    "2. Dream on\\\n",
    "3. I dream on\\\n",
    "4. Dream a little, I'll dream on\\\n",
    "5. Dream on\\\n",
    "6. I dream on\\\n",
    "7. I dream on\n",
    "8. \n",
    "9. Dream a little, I'll dream on\\\n",
    "10. Dream on\\\n",
    "11. Dream on\\\n",
    "12. Dream on\\\n",
    "13. I'll dream on\\\n",
    "14. Dream on\\\n",
    "15. Dream on\\\n",
    "16. I dream on"
   ]
  },
  {
   "cell_type": "markdown",
   "id": "72aed8c9",
   "metadata": {},
   "source": [
    "#### Question 3 answers:\n",
    "\n",
    "- The word . *lower (dream)* appears 17 times in the text. \n",
    "- Song titled \"Dream On\" originally from Aerosmith's 1973 debut album"
   ]
  },
  {
   "cell_type": "code",
   "execution_count": 3,
   "id": "85ab54e8",
   "metadata": {},
   "outputs": [
    {
     "name": "stdout",
     "output_type": "stream",
     "text": [
      "Dream on\n",
      "Dream on\n",
      "I dream on\n",
      "Dream a little, I'll dream on\n",
      "Dream on\n",
      "I dream on\n",
      "I dream on\n",
      "\n",
      "Dream a little, I'll dream on\n",
      "Dream on\n",
      "Dream on\n",
      "Dream on\n",
      "I'll dream on\n",
      "Dream on\n",
      "Dream on\n",
      "I dream on\n"
     ]
    }
   ],
   "source": [
    "# Solution - 3\n",
    "dream = [1,2,5,10,11,12,14,15]\n",
    "iDream = [3,6,7,16]\n",
    "dreamLittle = [4,9]\n",
    "illDream = [4,9,13]\n",
    "\n",
    "for i in range(1, 17):\n",
    "    if i in dream:\n",
    "        print(\"Dream on\")\n",
    "    elif i in iDream:\n",
    "        print(\"I dream on\")\n",
    "    elif i in dreamLittle and i in illDream:\n",
    "        print(\"Dream a little, I'll dream on\")\n",
    "    elif i in illDream:\n",
    "        print(\"I'll dream on\")\n",
    "    else:\n",
    "        print(\"\")"
   ]
  },
  {
   "cell_type": "markdown",
   "id": "f5f2fff5",
   "metadata": {},
   "source": [
    "#### Question 4: \n",
    "\n",
    "Create a dictionary, with keys being the name of employees: Oliver, Myers, Noah and Fallon. \n",
    "\n",
    "Add the values age (random - between 40 and 60), income (random between 100,000 and 150,000) and rating (random between 3.0 and 5.0) "
   ]
  },
  {
   "cell_type": "code",
   "execution_count": 4,
   "id": "ffdf510a",
   "metadata": {},
   "outputs": [
    {
     "name": "stdout",
     "output_type": "stream",
     "text": [
      "Oliver: {'age': 47, 'income': 117309, 'rating': 3.0071379123228534}\n",
      "Myers: {'age': 56, 'income': 139701, 'rating': 4.167082091851874}\n",
      "Noah: {'age': 41, 'income': 106816, 'rating': 4.6866810641316805}\n",
      "Fallon: {'age': 58, 'income': 143678, 'rating': 4.763591101769724}\n"
     ]
    }
   ],
   "source": [
    "# Solution - 4\n",
    "import random\n",
    "\n",
    "employees = {'Oliver' : {}, 'Myers' : {}, 'Noah' : {}, 'Fallon' : {}}\n",
    "\n",
    "for employee in employees:\n",
    "    employees[employee].update({'age' : random.randint(40,60)})\n",
    "    employees[employee].update({'income' : random.randint(100000,150000)})\n",
    "    employees[employee].update({'rating' : random.uniform(3.0,5.0)})\n",
    "\n",
    "for employee in employees:\n",
    "    print(employee + \": \" + str(employees[employee]))\n",
    "    "
   ]
  },
  {
   "cell_type": "markdown",
   "id": "56396df1",
   "metadata": {},
   "source": [
    "#### Question 5: \n",
    "\n",
    "Create the following student data into 2 sub dictionaries based on the scores. (score <= 10 & score > 10)"
   ]
  },
  {
   "cell_type": "code",
   "execution_count": 5,
   "id": "4c265e31",
   "metadata": {},
   "outputs": [
    {
     "name": "stdout",
     "output_type": "stream",
     "text": [
      "<= 10 {'student_3': 9, 'student_5': 8, 'student_112': 9, 'student_13': 10, 'student_16': 7, 'student_19': 9}\n",
      "\n",
      "> 10 {'student_1': 13, 'student_2': 17, 'student_4': 15, 'student_6': 14, 'student_7': 16, 'student_8': 12, 'student_9': 13, 'student_10': 15, 'student_11': 14, 'student_14': 12, 'student_15': 13, 'student_17': 12, 'student_18': 15, 'student_20': 17}\n"
     ]
    }
   ],
   "source": [
    "# Solution - 5\n",
    "\n",
    "students = {\"student_1\" : 13 , \"student_2\" : 17 , \"student_3\" : 9 , \"student_4\" : 15 , \"student_5\" : 8 , \"student_6\" : 14 , \n",
    "            \"student_7\" : 16 , \"student_8\" : 12 , \"student_9\" : 13 , \"student_10\" : 15 , \"student_11\" : 14 , \"student_112\" : 9 , \n",
    "            \"student_13\" : 10 , \"student_14\" : 12 , \"student_15\" : 13 , \"student_16\" : 7 , \"student_17\" : 12 , \"student_18\" : 15 , \n",
    "            \"student_19\" : 9 , \"student_20\" : 17 ,}\n",
    "\n",
    "upto10 = {}\n",
    "over10 = {}\n",
    "\n",
    "for student in students:\n",
    "    if students[student] > 10:\n",
    "        over10.update({student: students[student]})\n",
    "    else:\n",
    "        upto10.update({student: students[student]})\n",
    "\n",
    "print(\"<= 10 \" + str(upto10))\n",
    "print(\"\")\n",
    "print(\"> 10 \" + str(over10))\n",
    "\n",
    "        "
   ]
  },
  {
   "cell_type": "markdown",
   "id": "a2127ddc",
   "metadata": {},
   "source": [
    "#### Question 6: \n",
    "\n",
    "\n",
    "Write a python program that asks the user to enter an integer n and return a dictionary whose keys are integers 1, 2, 3, ... n and whose values ​​are 1! , 2! , 3! , … , n!"
   ]
  },
  {
   "cell_type": "code",
   "execution_count": 6,
   "id": "07c7a0f6",
   "metadata": {},
   "outputs": [
    {
     "name": "stdout",
     "output_type": "stream",
     "text": [
      "Enter an integer: \n",
      "1 : 1\n",
      "2 : 2\n",
      "3 : 6\n",
      "4 : 24\n",
      "5 : 120\n",
      "6 : 720\n",
      "7 : 5040\n",
      "8 : 40320\n",
      "9 : 362880\n",
      "10 : 3628800\n"
     ]
    }
   ],
   "source": [
    "# Solution - 6\n",
    "\n",
    "import math\n",
    "\n",
    "print (\"Enter an integer: \")\n",
    "n = int(input())\n",
    "\n",
    "factorials = {}\n",
    "\n",
    "for i in range(1,n+1):\n",
    "    factorials.update({i : math.factorial(i)})\n",
    "\n",
    "for key,value in factorials.items():\n",
    "    print(str(key) + \" : \" + str(value))\n",
    "    "
   ]
  },
  {
   "cell_type": "markdown",
   "id": "73eb3c1f",
   "metadata": {},
   "source": [
    "#### Question 7: \n",
    "    \n",
    "Write a program to identify the largest word in a string."
   ]
  },
  {
   "cell_type": "code",
   "execution_count": 7,
   "id": "5d57e16f",
   "metadata": {},
   "outputs": [
    {
     "name": "stdout",
     "output_type": "stream",
     "text": [
      "The largest word in the string was: jumped\n"
     ]
    }
   ],
   "source": [
    "# Solution - 7\n",
    "myString = \"The quick brown fox jumped over the lazy dog\"\n",
    "\n",
    "words = myString.split(\" \")\n",
    "\n",
    "theLargestWord = \"\"\n",
    "for word in words:\n",
    "    if len(word) > len(theLargestWord):\n",
    "        theLargestWord = word\n",
    "\n",
    "print(\"The largest word in the string was: \" + theLargestWord)"
   ]
  },
  {
   "cell_type": "markdown",
   "id": "395aa221",
   "metadata": {},
   "source": [
    "#### Question 8: \n",
    "    \n",
    "Given an integer array, write a program to identify all the rows with values greater than the mean of the entire data."
   ]
  },
  {
   "cell_type": "code",
   "execution_count": 8,
   "id": "c02f79db",
   "metadata": {},
   "outputs": [
    {
     "name": "stdout",
     "output_type": "stream",
     "text": [
      "[[145 976 744 853 789 635 655 568 223 814]\n",
      " [804 442 551 973 755 618 950 397 325 237]\n",
      " [644  50 946 835 357 342 187 255 317  61]\n",
      " [238 722 296 509 858 129 211 774 443 256]\n",
      " [501 798 273  11 646 460  13 600 530 600]\n",
      " [959 351 312 656 176 213 572 816 894 451]\n",
      " [ 49 564 634 916 673  89 342 342 661 300]\n",
      " [306 593 454 722 405 400 780 480 912  46]\n",
      " [864 936 774 720  63  85 749  49 589 691]\n",
      " [564 923 161 179 831 879 829  25 578 678]]\n",
      "Mean = 515.51\n",
      "[0, 1, 2, 3, 4, 5, 6, 7, 8, 9]\n"
     ]
    }
   ],
   "source": [
    "# Solution - 8\n",
    "import numpy as np\n",
    "\n",
    "myArray = np.random.randint(1000, size=(10,10))\n",
    "print(myArray)\n",
    "\n",
    "arrMean = np.mean(myArray)\n",
    "print(\"Mean = \" + str(arrMean))\n",
    "\n",
    "rows = []\n",
    "for i in range(len(myArray)):\n",
    "    for j in myArray[i]:\n",
    "        #print(j)\n",
    "        if j > arrMean:\n",
    "            rows.append(i)\n",
    "            break\n",
    "\n",
    "print(rows)\n",
    "\n"
   ]
  },
  {
   "cell_type": "markdown",
   "id": "2c897176",
   "metadata": {},
   "source": [
    "#### Question 9: \n",
    "    \n",
    "Given an array of strings, write a program to create a new array which contains the lengths of the strings in ascending order"
   ]
  },
  {
   "cell_type": "code",
   "execution_count": 9,
   "id": "394d79e3",
   "metadata": {},
   "outputs": [
    {
     "name": "stdout",
     "output_type": "stream",
     "text": [
      "['The' 'fox' 'the' 'dog' 'over' 'lazy' 'quick' 'brown' 'jumped']\n",
      "<class 'numpy.ndarray'>\n"
     ]
    }
   ],
   "source": [
    "# Solution - 9\n",
    "import numpy as np\n",
    "\n",
    "myString = \"The quick brown fox jumped over the lazy dog\"\n",
    "words = myString.split(\" \")\n",
    "arrStrings = np.array(words)\n",
    "sortedList = []\n",
    "\n",
    "for word in arrStrings:\n",
    "    if len(sortedList) < 1:                 # new list\n",
    "        sortedList.append(word)\n",
    "    elif len(sortedList) == 1:              # one word list\n",
    "        if len(word) > len(sortedList[0]):\n",
    "            sortedList.append(word)\n",
    "        else:\n",
    "            sortedList.insert(0, word)\n",
    "    else:                                   # multiple word list\n",
    "        for i in range(len(sortedList)):\n",
    "            if i == len(sortedList) - 1:\n",
    "                sortedList.append(word)\n",
    "                break\n",
    "            elif len(word) >= len(sortedList[i]) and len(word) < len(sortedList[i+1]):\n",
    "                sortedList.insert(i+1, word)\n",
    "                break\n",
    "\n",
    "sortedArray = np.array(sortedList)\n",
    "print(sortedArray)\n",
    "print(type(sortedArray))\n",
    "\n",
    "\n"
   ]
  },
  {
   "cell_type": "markdown",
   "id": "12af2109",
   "metadata": {},
   "source": [
    "#### Question 10: \n",
    "    \n",
    "Write a program to calculate the sum of the diagonal elements of a **n X n** matrix. "
   ]
  },
  {
   "cell_type": "code",
   "execution_count": 10,
   "id": "fb671b54",
   "metadata": {},
   "outputs": [
    {
     "name": "stdout",
     "output_type": "stream",
     "text": [
      "[[ 8  4 18  6  5 18 13  1  0  3]\n",
      " [ 0  0 11 12 10 16  9  2 11 13]\n",
      " [ 6 12 10 19  5 15 14 11  1 18]\n",
      " [16  6  5 19  9 12 18  8  8 16]\n",
      " [16  8  4  6  9 11 11  8  1 17]\n",
      " [11 16  5  0 18  2 11  8  6  8]\n",
      " [18 12  5  7  6  8 19  4  9 13]\n",
      " [11  6  0 12 12  4  0 13  2  2]\n",
      " [15  3  0 16 11  3  9  1 10  3]\n",
      " [ 3 11 11  7  0  4  4  2  2 10]]\n",
      "The sum of the main diagonal is:\n",
      "100\n"
     ]
    }
   ],
   "source": [
    "# Solution - 10\n",
    "import numpy as np\n",
    "\n",
    "theMatrix = np.random.randint(20, size=(10,10))\n",
    "\n",
    "print(theMatrix)\n",
    "print(\"The sum of the main diagonal is:\")\n",
    "print(np.trace(theMatrix))"
   ]
  }
 ],
 "metadata": {
  "kernelspec": {
   "display_name": "Python 3.10.5 64-bit",
   "language": "python",
   "name": "python3"
  },
  "language_info": {
   "codemirror_mode": {
    "name": "ipython",
    "version": 3
   },
   "file_extension": ".py",
   "mimetype": "text/x-python",
   "name": "python",
   "nbconvert_exporter": "python",
   "pygments_lexer": "ipython3",
   "version": "3.10.5"
  },
  "vscode": {
   "interpreter": {
    "hash": "807cc6a481f25a5b222cd58a3949a299ed2f2634387eaba6775d5c01f71eeb59"
   }
  }
 },
 "nbformat": 4,
 "nbformat_minor": 5
}
