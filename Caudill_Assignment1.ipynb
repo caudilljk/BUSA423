{
 "cells": [
  {
   "cell_type": "markdown",
   "metadata": {},
   "source": [
    "# BUSA 423 - Assignment 1\n",
    " James Caudill - BUSA423.01W "
   ]
  },
  {
   "cell_type": "markdown",
   "metadata": {},
   "source": [
    "## Question 1\n",
    "\n",
    "- Write a program which randomly selects a number between 1 and 20.\n",
    "- The user is given 5 chances to guess the number correctly to win. "
   ]
  },
  {
   "cell_type": "code",
   "execution_count": 2,
   "metadata": {},
   "outputs": [
    {
     "name": "stdout",
     "output_type": "stream",
     "text": [
      "Try Again.\n",
      "Try Again.\n",
      "Try Again.\n",
      "Try Again.\n",
      "Sorry, you did not guess the number. \n",
      "Out of tries.\n",
      "The number was:  10\n"
     ]
    }
   ],
   "source": [
    "# Solution 1\n",
    "import random\n",
    "\n",
    "theNum = random.randint(1,20)\n",
    "\n",
    "for i in range(6):\n",
    "    if i == 5:\n",
    "        print(\"Sorry, you did not guess the number. \\nOut of tries.\")\n",
    "        print(\"The number was: \", theNum)\n",
    "    else:\n",
    "        userNum = int(input())\n",
    "        if theNum == userNum:\n",
    "            print(\"WINNER!!\")\n",
    "            break\n",
    "        elif i < 4:\n",
    "            print(\"Try Again.\")\n"
   ]
  },
  {
   "cell_type": "markdown",
   "metadata": {},
   "source": [
    "## Question 2\n",
    "\n",
    "Make the following change to the above program\n",
    "- After each guess print Lower or Higher"
   ]
  },
  {
   "cell_type": "code",
   "execution_count": 33,
   "metadata": {},
   "outputs": [
    {
     "name": "stdout",
     "output_type": "stream",
     "text": [
      "Higher\n",
      "Higher\n",
      "Lower\n",
      "Lower\n",
      "WINNER!!\n"
     ]
    }
   ],
   "source": [
    "# Solution 2\n",
    "import random\n",
    "\n",
    "theNum = random.randint(1,20)\n",
    "\n",
    "for i in range(6):\n",
    "    if i == 5:\n",
    "        print(\"Sorry, you did not guess the number. \\nOut of tries.\")\n",
    "    else:\n",
    "        userNum = int(input())\n",
    "        if theNum == userNum:\n",
    "            print(\"WINNER!!\")\n",
    "            break\n",
    "        elif i < 4:\n",
    "            if theNum > userNum:\n",
    "                print(\"Higher\")\n",
    "            else:\n",
    "                print(\"Lower\")\n"
   ]
  },
  {
   "cell_type": "markdown",
   "metadata": {},
   "source": [
    "## Question 3\n",
    "\n",
    "**Rock, Paper, Scissors, Lizard, Spock**  [Video Reference](https://www.youtube.com/watch?v=x5Q6-wMx-K8)\n",
    "- Scissors cuts Paper\n",
    "- Paper covers Rock\n",
    "- Rock crushes Lizard\n",
    "- Lizard poisons Spock\n",
    "- Spock smashes Scissors\n",
    "- Scissors decapitates Lizard\n",
    "- Lizard eats Paper\n",
    "- Paper disproves Spock\n",
    "- Spock vaporizes Rock\n",
    "- And as it always has, Rock crushes Scissors"
   ]
  },
  {
   "cell_type": "code",
   "execution_count": 30,
   "metadata": {},
   "outputs": [
    {
     "name": "stdout",
     "output_type": "stream",
     "text": [
      "User: Lizzard\n",
      "Computer: Lizzard\n",
      "It's a draw\n"
     ]
    }
   ],
   "source": [
    "# Solution 3\n",
    "\n",
    "import random\n",
    "\n",
    "op = (\"rock\", \"paper\", \"scissors\", \"lizzard\", \"spock\")\n",
    "user = input().lower()\n",
    "comp = random.randint(0,4)\n",
    "\n",
    "\n",
    "if user in op:                  # validate user input: If user input is valid lets play\n",
    "    print(\"User:\", user.title())\n",
    "    print(\"Computer:\", op[comp].title())\n",
    "\n",
    "    if user == op[comp]:\n",
    "        print(\"It's a draw\")\n",
    "    elif comp == 0:             # computer: Rock\n",
    "        if user == op[2] or user == op[3]:\n",
    "            print (\"Computer Wins\")\n",
    "        else:\n",
    "            print (\"User Wins\")\n",
    "    elif comp == 1:             # computer: Paper\n",
    "        if user == op[0] or user == op[4]:\n",
    "            print (\"Computer Wins\")\n",
    "        else:\n",
    "            print (\"User Wins\")\n",
    "    elif comp == 2:             # computer: Scissors\n",
    "        if user == op[1] or user == op[3]:\n",
    "            print (\"Computer Wins\")\n",
    "        else:\n",
    "            print (\"User Wins\")\n",
    "    elif comp == 3:             # computer: Lizzard\n",
    "        if user == op[4] or user == op[1]:\n",
    "            print (\"Computer Wins\")\n",
    "        else:\n",
    "            print (\"User Wins\")\n",
    "    elif comp == 4:             # computer: Spock\n",
    "        if user == op[0] or user == op[2]:\n",
    "            print (\"Computer Wins\")\n",
    "        else:\n",
    "            print (\"User Wins\")\n",
    "else: \n",
    "    print (\"That's not one of the choices!!\")"
   ]
  }
 ],
 "metadata": {
  "kernelspec": {
   "display_name": "Python 3.10.5 64-bit",
   "language": "python",
   "name": "python3"
  },
  "language_info": {
   "codemirror_mode": {
    "name": "ipython",
    "version": 3
   },
   "file_extension": ".py",
   "mimetype": "text/x-python",
   "name": "python",
   "nbconvert_exporter": "python",
   "pygments_lexer": "ipython3",
   "version": "3.10.5"
  },
  "orig_nbformat": 4,
  "vscode": {
   "interpreter": {
    "hash": "807cc6a481f25a5b222cd58a3949a299ed2f2634387eaba6775d5c01f71eeb59"
   }
  }
 },
 "nbformat": 4,
 "nbformat_minor": 2
}
