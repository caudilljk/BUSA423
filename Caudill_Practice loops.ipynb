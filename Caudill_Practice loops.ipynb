{
 "cells": [
  {
   "cell_type": "markdown",
   "id": "f42153b9",
   "metadata": {},
   "source": [
    "## Practice Questions - Loops"
   ]
  },
  {
   "cell_type": "markdown",
   "id": "c8c3054e",
   "metadata": {},
   "source": [
    "#### Question 1: Write a program to print the following number pattern using a loop.\n",
    "\n",
    "1 \\\n",
    "1 3 \\\n",
    "1 3 5 "
   ]
  },
  {
   "cell_type": "code",
   "execution_count": 3,
   "id": "1108608c",
   "metadata": {},
   "outputs": [
    {
     "name": "stdout",
     "output_type": "stream",
     "text": [
      "1\n",
      "13\n",
      "135\n"
     ]
    }
   ],
   "source": [
    "# Solution \n",
    "\n",
    "strNum = \"\"\n",
    "for i in range(1,7,2):\n",
    "    strNum = strNum + str(i)\n",
    "    print(strNum)"
   ]
  },
  {
   "cell_type": "markdown",
   "id": "94440a4e",
   "metadata": {},
   "source": [
    "#### Question 2: Calculate the sum of all numbers from 1 to a given number  \n",
    "\n",
    "Input - 5\\\n",
    "Output - 15, <em>which is (1+2+3+4+5)</em>"
   ]
  },
  {
   "cell_type": "code",
   "execution_count": 5,
   "id": "770a9f6f",
   "metadata": {},
   "outputs": [
    {
     "name": "stdout",
     "output_type": "stream",
     "text": [
      "15\n"
     ]
    }
   ],
   "source": [
    "# Solution\n",
    "\n",
    "numIn = int(input())\n",
    "sum = 0\n",
    "for i in range(numIn + 1):\n",
    "    sum = sum + i\n",
    "print(sum)"
   ]
  },
  {
   "cell_type": "markdown",
   "id": "e20717d7",
   "metadata": {},
   "source": [
    "#### Question 3: Find the factorial of a given number \n",
    "\n",
    "Input - 5\\\n",
    "Output - 120, <em>which is (1x2x3x4x5)</em>"
   ]
  },
  {
   "cell_type": "code",
   "execution_count": 10,
   "id": "9be266a7",
   "metadata": {},
   "outputs": [
    {
     "name": "stdout",
     "output_type": "stream",
     "text": [
      "5040\n"
     ]
    }
   ],
   "source": [
    "# Solution\n",
    "\n",
    "numIn = int(input())\n",
    "prod = 1\n",
    "for i in range(1, numIn + 1):\n",
    "    prod = prod * i\n",
    "print(prod)"
   ]
  },
  {
   "cell_type": "markdown",
   "id": "8b4643ca",
   "metadata": {},
   "source": [
    "#### Question 4: Given a student score (between 0 and 100), evaluate the following criteria.\n",
    "\n",
    "- Elgible for funding if the score is greater than 90\n",
    "- Fail if the score is less than 70\n",
    "- Need tutoring if they are not qualified for funding and havent failed.\n",
    " \n",
    "Input - 65, <em> User input </em> \\\n",
    "Output - Fail"
   ]
  },
  {
   "cell_type": "code",
   "execution_count": 16,
   "id": "755dda69",
   "metadata": {},
   "outputs": [
    {
     "name": "stdout",
     "output_type": "stream",
     "text": [
      "Eligible for funding.\n"
     ]
    }
   ],
   "source": [
    "# Solution\n",
    "\n",
    "scoreIn = int(input())\n",
    "\n",
    "if scoreIn > 90:\n",
    "    print(\"Eligible for funding.\")\n",
    "elif scoreIn < 70:\n",
    "    print(\"Fail\")\n",
    "else:\n",
    "    print(\"Needs toutoring.\")"
   ]
  },
  {
   "cell_type": "markdown",
   "id": "0250ffb6",
   "metadata": {},
   "source": [
    "#### Question 5: Check if the given year is a leap year.\n",
    "\n",
    "Input - 1995 \\\n",
    "Output - No"
   ]
  },
  {
   "cell_type": "code",
   "execution_count": 22,
   "id": "6e37dfb4",
   "metadata": {},
   "outputs": [
    {
     "name": "stdout",
     "output_type": "stream",
     "text": [
      "Leap Year\n"
     ]
    }
   ],
   "source": [
    "# Solution\n",
    "\n",
    "yearIn = int(input())\n",
    "\n",
    "if yearIn % 4 == 0:\n",
    "    print(\"Leap Year\")\n",
    "else:\n",
    "    print(\"No\")"
   ]
  },
  {
   "cell_type": "markdown",
   "id": "4a44d2fb",
   "metadata": {},
   "source": [
    "#### Question 6: Print the number of days in the given month. (You can assume 28 days for February)\n",
    "\n",
    "Input - \"January\" \\\n",
    "Output - 31"
   ]
  },
  {
   "cell_type": "code",
   "execution_count": 26,
   "id": "98d82f0c",
   "metadata": {},
   "outputs": [
    {
     "name": "stdout",
     "output_type": "stream",
     "text": [
      "31\n"
     ]
    }
   ],
   "source": [
    "# Days of the Month Solution - 1\n",
    "\n",
    "strMonth = input()\n",
    "\n",
    "if strMonth.lower() == \"january\":\n",
    "    print(\"31\")\n",
    "elif strMonth.lower() == \"february\":\n",
    "    print(\"28\")\n",
    "elif strMonth.lower() == \"march\":\n",
    "    print(\"31\")\n",
    "elif strMonth.lower() == \"april\":\n",
    "    print(\"30\")\n",
    "elif strMonth.lower() == \"may\":\n",
    "    print(\"31\")\n",
    "elif strMonth.lower() == \"june\":\n",
    "    print(\"30\")\n",
    "elif strMonth.lower() == \"july\":\n",
    "    print(\"31\")\n",
    "elif strMonth.lower() == \"august\":\n",
    "    print(\"31\")\n",
    "elif strMonth.lower() == \"september\":\n",
    "    print(\"30\")\n",
    "elif strMonth.lower() == \"october\":\n",
    "    print(\"31\")\n",
    "elif strMonth.lower() == \"november\":\n",
    "    print(\"30\")\n",
    "elif strMonth.lower() == \"december\":\n",
    "    print(\"31\")\n",
    "else:\n",
    "    print(\"Invalid Entry\")"
   ]
  },
  {
   "cell_type": "code",
   "execution_count": 40,
   "id": "11db2983",
   "metadata": {},
   "outputs": [
    {
     "name": "stdout",
     "output_type": "stream",
     "text": [
      "31\n"
     ]
    }
   ],
   "source": [
    "# Days of the Month Solution - 2\n",
    "\n",
    "strMonth = input()\n",
    "\n",
    "if strMonth.lower() == \"january\" or strMonth.lower() == \"march\" or strMonth.lower() == \"may\" or strMonth.lower() == \"july\" or strMonth.lower() == \"august\" or strMonth.lower() == \"october\" or strMonth.lower() == \"december\":\n",
    "    print(\"31\")\n",
    "elif strMonth.lower() == \"april\" or strMonth.lower() == \"june\" or strMonth.lower() == \"september\" or strMonth.lower() == \"november\":\n",
    "    print(\"30\")\n",
    "elif strMonth.lower() == \"february\":\n",
    "    print(\"28\")\n",
    "else:\n",
    "    print(\"Invalid Entry\")"
   ]
  },
  {
   "cell_type": "markdown",
   "id": "05d3d8c1",
   "metadata": {},
   "source": [
    "#### Question 7: Write a program which takes the 3 numbers and identifes the largest one.\n",
    "\n",
    "Input - 30, 12, 50 \\\n",
    "Output - 50"
   ]
  },
  {
   "cell_type": "code",
   "execution_count": 50,
   "id": "37dcd3a6",
   "metadata": {},
   "outputs": [
    {
     "name": "stdout",
     "output_type": "stream",
     "text": [
      "50\n"
     ]
    }
   ],
   "source": [
    "largestNum = int(input())\n",
    "b = int(input())\n",
    "c = int(input())\n",
    "\n",
    "if b > largestNum:\n",
    "    largestNum = b\n",
    "if c > largestNum:\n",
    "    largestNum = c\n",
    "print(largestNum)"
   ]
  },
  {
   "cell_type": "code",
   "execution_count": 49,
   "id": "f4d47f2d",
   "metadata": {},
   "outputs": [
    {
     "name": "stdout",
     "output_type": "stream",
     "text": [
      "The Numbers entered were: 50, 12, 30\n",
      "The largest number is: 50\n"
     ]
    }
   ],
   "source": [
    "# Solution - with a little extra flavor\n",
    "\n",
    "largestNum = int(input())\n",
    "b = int(input())\n",
    "c = int(input())\n",
    "\n",
    "print(\"The Numbers entered were: \" + str(largestNum) + ', ' + str(b) + ', ' + str(c))\n",
    "\n",
    "if b > largestNum:\n",
    "    largestNum = b\n",
    "if c > largestNum:\n",
    "    largestNum = c\n",
    "print(\"The largest number is: \" + str(largestNum))"
   ]
  },
  {
   "cell_type": "markdown",
   "id": "0b76f364",
   "metadata": {},
   "source": [
    "#### Question 8: Write a program which takes the three 2 digit numbers and sorts them in ascending order.\n",
    "\n",
    "Input - 30, 12, 50 \\\n",
    "Output - 12, 30, 50"
   ]
  },
  {
   "cell_type": "code",
   "execution_count": 63,
   "id": "66cc7213",
   "metadata": {},
   "outputs": [
    {
     "name": "stdout",
     "output_type": "stream",
     "text": [
      "12 30 50\n"
     ]
    }
   ],
   "source": [
    "# Solution\n",
    "\n",
    "top = int(input())\n",
    "mid = int(input())\n",
    "low = int(input())\n",
    "temp = 0\n",
    "\n",
    "# sort low and mid\n",
    "if low > mid: \n",
    "    temp = low\n",
    "    low = mid\n",
    "    mid = temp\n",
    "\n",
    "# sort mid and top\n",
    "if mid > top:\n",
    "    temp = mid\n",
    "    mid = top\n",
    "    top = temp\n",
    "\n",
    "# resort low and mid\n",
    "if low > mid: \n",
    "    temp = low\n",
    "    low = mid\n",
    "    mid = temp\n",
    "\n",
    "print (low, mid, top)"
   ]
  },
  {
   "cell_type": "markdown",
   "id": "f90efc3e",
   "metadata": {},
   "source": [
    "#### Question 9: Write a program which takes the user's weight(in lbs) and height(in inches), and then calculates the bmi using the below formula.\n",
    "\n",
    "BMI = Weight X 0.45359/((Height X 0.0254) X (Height X 0.0254))\n",
    "\n",
    "Input - 150, 70 <em> , 2 user inputs (weight and height) </em> \\\n",
    "Output - 21.522"
   ]
  },
  {
   "cell_type": "code",
   "execution_count": 65,
   "id": "8d2ca168",
   "metadata": {},
   "outputs": [
    {
     "name": "stdout",
     "output_type": "stream",
     "text": [
      "21.522\n"
     ]
    }
   ],
   "source": [
    "# Solution\n",
    "\n",
    "w = float(input())\n",
    "h = float(input())\n",
    "\n",
    "bmi = (w * 0.45359)/((h * 0.0254)**2)\n",
    "print(f'{bmi:.3f}')"
   ]
  },
  {
   "cell_type": "markdown",
   "id": "bdfa27e9",
   "metadata": {},
   "source": [
    "#### Question 10: Write a program to check whether a number is prime or not using while loop.\n",
    "\n",
    "Input - 13 \\\n",
    "Output - Prime"
   ]
  },
  {
   "cell_type": "markdown",
   "id": "a0b7f94f",
   "metadata": {},
   "source": [
    "**The code below was dirived from works found on** *[Wikipedia](https://en.wikipedia.org/wiki/Primality_test)*\n",
    "\n",
    "The tricky part seemed to be exiting the else block without completing all lines. \\\n",
    "I wasn't sure if the break statement would work the same in an if...else context. \\\n",
    "I tried it and it seems to work!! "
   ]
  },
  {
   "cell_type": "code",
   "execution_count": 13,
   "id": "4217bdec",
   "metadata": {},
   "outputs": [
    {
     "name": "stdout",
     "output_type": "stream",
     "text": [
      "False\n"
     ]
    }
   ],
   "source": [
    "# Solution - derived from the code referenced above without writing as a function\n",
    "\n",
    "n = int(input())\n",
    "\n",
    "if n <= 3:\n",
    "    print(n > 1)\n",
    "elif not n%2 or not n%3:\n",
    "    print(\"False\")\n",
    "else:\n",
    "    i = 5\n",
    "    end = int(n**0.5)\n",
    "    while i <= end:\n",
    "        if not n%i or not n%(i+2):\n",
    "            print(\"False\")\n",
    "            break # This is an attempt to leave the else clause before executing the following print(\"True\")\n",
    "        i += 6\n",
    "    print(\"True\")\n",
    "\n",
    "\n"
   ]
  }
 ],
 "metadata": {
  "kernelspec": {
   "display_name": "Python 3.10.5 64-bit",
   "language": "python",
   "name": "python3"
  },
  "language_info": {
   "codemirror_mode": {
    "name": "ipython",
    "version": 3
   },
   "file_extension": ".py",
   "mimetype": "text/x-python",
   "name": "python",
   "nbconvert_exporter": "python",
   "pygments_lexer": "ipython3",
   "version": "3.10.5"
  },
  "vscode": {
   "interpreter": {
    "hash": "807cc6a481f25a5b222cd58a3949a299ed2f2634387eaba6775d5c01f71eeb59"
   }
  }
 },
 "nbformat": 4,
 "nbformat_minor": 5
}
