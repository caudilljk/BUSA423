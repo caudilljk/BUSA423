{
 "cells": [
  {
   "cell_type": "markdown",
   "metadata": {},
   "source": [
    "# BUSA 423 - Assignment 2\n",
    "\n",
    "James Caudill BUSA423.01W"
   ]
  },
  {
   "cell_type": "markdown",
   "metadata": {},
   "source": [
    "## Question 1\n",
    "\n",
    "- Write a program for flipping a coin 10,000 times\n",
    "- Store the results in a list\n",
    "- Identify the number of streaks (Streak = a series of 5 or more heads or tails)\n"
   ]
  },
  {
   "cell_type": "code",
   "execution_count": 12,
   "metadata": {},
   "outputs": [
    {
     "name": "stdout",
     "output_type": "stream",
     "text": [
      "Out of 10000 flips there were 4983 Heads and 5017 tails.\n",
      "There were 123 Head streaks and 169 Tail streaks for a total of 292 streaks during this exercise.\n"
     ]
    }
   ],
   "source": [
    "# Solution - 1\n",
    "# 1 = heads, 2 = tails\n",
    "\n",
    "import random\n",
    "\n",
    "flipRecord = []\n",
    "\n",
    "for i in range(10000):\n",
    "    flipRecord.append(random.randint(1,2))\n",
    "\n",
    "testVal = 0 \n",
    "headStreak = 0\n",
    "tailStreak = 0\n",
    "for i in range(len(flipRecord)):\n",
    "    testVal = flipRecord[i]\n",
    "    j = i + 1\n",
    "    count = 0\n",
    "    while j < len(flipRecord) and flipRecord[i] == flipRecord[j]:\n",
    "        count += 1\n",
    "        j += 1\n",
    "    if count > 4:\n",
    "        if flipRecord[i] == 1:\n",
    "            headStreak += 1\n",
    "        else:\n",
    "            tailStreak += 1\n",
    "    i = j\n",
    "\n",
    "print(\"Out of \" + str(len(flipRecord)) + \" flips there were \" + str(flipRecord.count(1)) + \" Heads and \" + str(flipRecord.count(2)) + \" tails.\") # used to verify the program counts. \n",
    "print(\"There were \" + str(headStreak) + \" Head streaks and \" + str(tailStreak) + \" Tail streaks for a total of \" + str(headStreak + tailStreak) + \" streaks during this exercise.\")"
   ]
  },
  {
   "cell_type": "markdown",
   "metadata": {},
   "source": [
    "## Question 2\n",
    "\n",
    "- Write a program to take user inputs (number of: swords, diamonds, gold coins, ropes and potions)\n",
    "- Store them in a dictionary\n",
    "- Print the following output: \n",
    "  - Inventory:\n",
    "  - 4 swords\n",
    "  - 10 diamonds\n",
    "  - 6 gold coins\n",
    "  - 3 ropes\n",
    "  - 2 potions"
   ]
  },
  {
   "cell_type": "code",
   "execution_count": 16,
   "metadata": {},
   "outputs": [
    {
     "name": "stdout",
     "output_type": "stream",
     "text": [
      "Let's get your inventory counted up.\n",
      "Enter the number of swords you have.\n",
      "Enter the number of diamonds you have.\n",
      "Enter the number of gold coins you have.\n",
      "Enter the number of ropes you have.\n",
      "Enter the number of potions you have.\n",
      "Invetory:\n",
      "4 swords\n",
      "10 diamonds\n",
      "6 gold coins\n",
      "3 ropes\n",
      "2 potions\n"
     ]
    }
   ],
   "source": [
    "# Solution - 2\n",
    "\n",
    "inventory = {'swords' :0, 'diamonds' :0, 'gold coins' :0, 'ropes' :0, 'potions' :0}\n",
    "\n",
    "print(\"Let's get your inventory counted up.\")\n",
    "\n",
    "print(\"Enter the number of swords you have.\")\n",
    "inventory['swords'] = int(input())\n",
    "\n",
    "print(\"Enter the number of diamonds you have.\")\n",
    "inventory['diamonds'] = int(input())\n",
    "\n",
    "print(\"Enter the number of gold coins you have.\")\n",
    "inventory['gold coins'] = int(input())\n",
    "\n",
    "print(\"Enter the number of ropes you have.\")\n",
    "inventory['ropes'] = int(input())\n",
    "\n",
    "print(\"Enter the number of potions you have.\")\n",
    "inventory['potions'] = int(input())\n",
    "\n",
    "print(\"Invetory:\")\n",
    "for key,value in inventory.items():\n",
    "    print(str(value) + \" \" + key)"
   ]
  },
  {
   "cell_type": "markdown",
   "metadata": {},
   "source": [
    "## Question 3 \n",
    "\n",
    "- Repeat question 1 using arrays"
   ]
  },
  {
   "cell_type": "code",
   "execution_count": 38,
   "metadata": {},
   "outputs": [
    {
     "name": "stdout",
     "output_type": "stream",
     "text": [
      "Out of 10000 flips there were 4953 Heads and 5047 tails.\n",
      "There were 180 Head streaks and 152 Tail streaks for a total of 332 streaks during this exercise.\n"
     ]
    }
   ],
   "source": [
    "# Solution - 3\n",
    "# 0 = heads, 1 = tails\n",
    "\n",
    "import random\n",
    "import numpy as np\n",
    "\n",
    "flipArray = np.random.randint(2, size=(10000))\n",
    "\n",
    "testVal = 0 \n",
    "headStreak = 0\n",
    "tailStreak = 0\n",
    "for i in range(len(flipArray)):\n",
    "    testVal = flipArray[i]\n",
    "    j = i + 1\n",
    "    count = 0\n",
    "    while j < len(flipArray) and flipArray[i] == flipArray[j]:\n",
    "        count += 1\n",
    "        j += 1\n",
    "    if count > 4:\n",
    "        if flipArray[i] == 0:\n",
    "            headStreak += 1\n",
    "        else:\n",
    "            tailStreak += 1\n",
    "    i = j\n",
    "\n",
    "print(\"Out of \" + str(len(flipArray)) + \" flips there were \" + str(np.count_nonzero(flipArray)) + \" Heads and \" + str(len(flipArray) - np.count_nonzero(flipArray)) + \" tails.\") # used to verify the program counts. \n",
    "print(\"There were \" + str(headStreak) + \" Head streaks and \" + str(tailStreak) + \" Tail streaks for a total of \" + str(headStreak + tailStreak) + \" streaks during this exercise.\")"
   ]
  },
  {
   "cell_type": "markdown",
   "metadata": {},
   "source": [
    "## Question 4 - Create a game\n",
    "\n",
    "The requirements:\n",
    "- 3 players and 10 iterations\n",
    "- Each iteration, a player rolls a die\n",
    "- The score for each player is calculated by adding up the 10 rolls. \n",
    "- The player with the higest total score is the winner."
   ]
  },
  {
   "cell_type": "code",
   "execution_count": 62,
   "metadata": {},
   "outputs": [
    {
     "name": "stdout",
     "output_type": "stream",
     "text": [
      "Bob's score is 26\n",
      "Sue's score is 40\n",
      "Pat's score is 31\n",
      "\n",
      "Sue is the winner!!\n"
     ]
    }
   ],
   "source": [
    "# Solution - 4\n",
    "# PlayersName[arrayIndex]: Bob[0], Sue[1], Pat[2]\n",
    "\n",
    "import random\n",
    "import numpy as np\n",
    "\n",
    "scoreCard = np.zeros((3,10), dtype=int)\n",
    "\n",
    "for i in range(10):\n",
    "    for j in range(3):\n",
    "        scoreCard[j][i] = random.randint(1,6)\n",
    "        \n",
    "#print(scoreCard)           # for code varification\n",
    "bob = np.sum(scoreCard[0])\n",
    "sue = np.sum(scoreCard[1])\n",
    "pat = np.sum(scoreCard[2])\n",
    "\n",
    "print(\"Bob's score is \" + str(bob))\n",
    "print(\"Sue's score is \" + str(sue))\n",
    "print(\"Pat's score is \" + str(pat) + \"\\n\")\n",
    "\n",
    "if bob > sue and bob > pat:\n",
    "    print(\"Bob is the winner!!\")\n",
    "elif sue > bob and sue > pat:\n",
    "    print(\"Sue is the winner!!\")\n",
    "else:\n",
    "    print(\"Pat is the winner!!\")\n"
   ]
  }
 ],
 "metadata": {
  "kernelspec": {
   "display_name": "Python 3.10.5 64-bit",
   "language": "python",
   "name": "python3"
  },
  "language_info": {
   "codemirror_mode": {
    "name": "ipython",
    "version": 3
   },
   "file_extension": ".py",
   "mimetype": "text/x-python",
   "name": "python",
   "nbconvert_exporter": "python",
   "pygments_lexer": "ipython3",
   "version": "3.10.5"
  },
  "orig_nbformat": 4,
  "vscode": {
   "interpreter": {
    "hash": "807cc6a481f25a5b222cd58a3949a299ed2f2634387eaba6775d5c01f71eeb59"
   }
  }
 },
 "nbformat": 4,
 "nbformat_minor": 2
}
