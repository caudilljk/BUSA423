{
 "cells": [
  {
   "cell_type": "markdown",
   "id": "1834e7af",
   "metadata": {},
   "source": [
    "## Practice Questions - Functions\n",
    "\n",
    "### Create functions for problems from weeks 1 & 2"
   ]
  },
  {
   "cell_type": "markdown",
   "id": "3edc9f62",
   "metadata": {},
   "source": [
    "#### Question 1: \n",
    "\n",
    "Create a function which takes 2 lists and a choice of **append(), extend(), insert(), and concatenation**, then returns the added list according to the selected choice. \n",
    "\n",
    "function call &rarr; add_lists (list_1, list_2, use_append) \\\n",
    "returns &rarr; [list_1, list_2]"
   ]
  },
  {
   "cell_type": "code",
   "execution_count": 13,
   "id": "b33faca1",
   "metadata": {},
   "outputs": [
    {
     "name": "stdout",
     "output_type": "stream",
     "text": [
      "Append = [[22, 41, 33, 66, 8, 12, 90], [32, 45, 16, 11]]\n",
      "Extend = [[22, 41, 33, 66, 8, 12, 90], [32, 45, 16, 11]]\n",
      "Insert = [[22, 41, 33, 66, 8, 12, 90], [32, 45, 16, 11]]\n",
      "Concat = [[22, 41, 33, 66, 8, 12, 90], [32, 45, 16, 11]]\n"
     ]
    }
   ],
   "source": [
    "# Solution - 1\n",
    "\n",
    "def addLists (list1, list2, method):\n",
    "    theReturnList = [list1]\n",
    "    if method == \"useAppend\":\n",
    "        theReturnList.append(list2)\n",
    "    elif method == \"useExtend\":\n",
    "        theReturnList.extend([list2])\n",
    "    elif method == \"useInsert\":\n",
    "        theReturnList.append([])\n",
    "        for i in range(len(list2)):\n",
    "            theReturnList[1].insert(i,list2[i])\n",
    "    elif method == \"useConcat\":\n",
    "        theReturnList += [list2]\n",
    "    else:\n",
    "        print(\"Invalid Method\")\n",
    "    return theReturnList\n",
    "\n",
    "original = [22, 41, 33, 66, 8, 12, 90]\n",
    "newList = [32, 45, 16, 11]\n",
    "\n",
    "print (\"Append =\", addLists(original, newList, \"useAppend\"))\n",
    "print (\"Extend =\", addLists(original, newList, \"useExtend\"))\n",
    "print (\"Insert =\", addLists(original, newList, \"useInsert\"))\n",
    "print (\"Concat =\", addLists(original, newList, \"useConcat\"))"
   ]
  },
  {
   "cell_type": "markdown",
   "id": "3c3007cb",
   "metadata": {},
   "source": [
    "#### Question 2: \n",
    "\n",
    "Write a function that tests whether a list or a string is empty or not. \n",
    "\n",
    "function call &rarr; test_empty (list_1)\\\n",
    "returns &rarr; true or false"
   ]
  },
  {
   "cell_type": "code",
   "execution_count": 21,
   "id": "ac34d0bc",
   "metadata": {},
   "outputs": [
    {
     "name": "stdout",
     "output_type": "stream",
     "text": [
      "Testing the empty list.\n",
      "The list was empty. \n",
      "\n",
      "\n",
      "Testing the not empty list.\n",
      "This list is not empty yet\n",
      "Popping 5\n",
      "This list is not empty yet\n",
      "Popping 4\n",
      "This list is not empty yet\n",
      "Popping 3\n",
      "This list is not empty yet\n",
      "Popping 2\n",
      "This list is not empty yet\n",
      "Popping 1\n",
      "It took some work, but the list is now empty. \n",
      "\n",
      "\n",
      "Testing the not empty string.\n",
      "String converted to list.\n",
      "This list is not empty yet\n",
      "Popping W\n",
      "This list is not empty yet\n",
      "Popping 1\n",
      "This list is not empty yet\n",
      "Popping 0\n",
      "This list is not empty yet\n",
      "Popping .\n",
      "This list is not empty yet\n",
      "Popping 3\n",
      "This list is not empty yet\n",
      "Popping 2\n",
      "This list is not empty yet\n",
      "Popping 4\n",
      "This list is not empty yet\n",
      "Popping A\n",
      "This list is not empty yet\n",
      "Popping S\n",
      "This list is not empty yet\n",
      "Popping U\n",
      "This list is not empty yet\n",
      "Popping B\n",
      "It took some work, but the list is now empty.\n"
     ]
    }
   ],
   "source": [
    "# Solution - 2\n",
    "\n",
    "def testEmptyList(listIn):\n",
    "    msg = \"\" \n",
    "    if len(listIn) == 0:\n",
    "        msg = \"The list was empty.\"\n",
    "    while len(listIn) > 0:   \n",
    "        lastIndex = len(listIn)-1\n",
    "        print (\"This list is not empty yet\")\n",
    "        print (\"Popping \" + str(listIn[lastIndex]))\n",
    "        listIn.pop(lastIndex) \n",
    "        msg = \"It took some work, but the list is now empty.\"\n",
    "    return msg\n",
    "\n",
    "def makeStringToList(stringIn):\n",
    "    listOut = []\n",
    "    for char in stringIn:\n",
    "        listOut.append(char)\n",
    "    print(\"String converted to list.\")\n",
    "    return listOut\n",
    "\n",
    "def testEmptyString(myString):\n",
    "    myList = makeStringToList(myString)\n",
    "    return testEmptyList(myList)\n",
    "\n",
    "list1 = []\n",
    "print(\"Testing the empty list.\")\n",
    "print(testEmptyList(list1), \"\\n\\n\")\n",
    "\n",
    "list1 = [1,2,3,4,5]\n",
    "print(\"Testing the not empty list.\")\n",
    "print(testEmptyList(list1), \"\\n\\n\")\n",
    "\n",
    "print(\"Testing the not empty string.\")\n",
    "print(testEmptyString(\"BUSA423.01W\"))"
   ]
  },
  {
   "cell_type": "markdown",
   "id": "42dcfc84",
   "metadata": {},
   "source": [
    "#### Question 3:\n",
    "\n",
    "Write a function that takes an integer n and return a dictionary whose keys are integers 1, 2, 3, ... n and whose values ​​are 1! , 2! , 3! , … , n!\n",
    "\n",
    "function call &rarr; factorial_dict (3)\\\n",
    "returns &rarr; { 1 : 1, 2 : 2, 3 : 6 }"
   ]
  },
  {
   "cell_type": "code",
   "execution_count": 23,
   "id": "cf3950b9",
   "metadata": {},
   "outputs": [
    {
     "name": "stdout",
     "output_type": "stream",
     "text": [
      "Enter an integer: \n",
      "1 : 1\n",
      "2 : 2\n",
      "3 : 6\n"
     ]
    }
   ],
   "source": [
    "# Solution - 3\n",
    "\n",
    "import math\n",
    "\n",
    "def factorialDict(n):\n",
    "    factOut = {}\n",
    "    for i in range(1,n+1):\n",
    "        factOut.update({i : math.factorial(i)})\n",
    "    return factOut\n",
    "\n",
    "print (\"Enter an integer: \")\n",
    "n = int(input())\n",
    "\n",
    "factorials = factorialDict(n)\n",
    "\n",
    "for key,value in factorials.items():\n",
    "    print(str(key) + \" : \" + str(value))"
   ]
  },
  {
   "cell_type": "markdown",
   "id": "dda2ad27",
   "metadata": {},
   "source": [
    "#### Question 4: \n",
    "    \n",
    "Write a function to identify the largest word in a string.\n",
    "\n",
    "function call &rarr; largest_word (\"Fear leads to anger, anger leads to hate, hate leads to suffering.\")\\\n",
    "returns &rarr; \"suffering\""
   ]
  },
  {
   "cell_type": "code",
   "execution_count": 31,
   "id": "792fed25",
   "metadata": {},
   "outputs": [
    {
     "name": "stdout",
     "output_type": "stream",
     "text": [
      "The largest word in the string was: suffering\n"
     ]
    }
   ],
   "source": [
    "# Solution - 4\n",
    "\n",
    "def largestWord(stringIn):\n",
    "    if \",\" in stringIn:\n",
    "        stringIn = stringIn.replace(\",\", \"\")\n",
    "    words = stringIn.split(\" \")\n",
    "    # print(words)          # to verify correct words in list\n",
    "    theLargestWord = \"\"\n",
    "    for word in words:\n",
    "        if len(word) > len(theLargestWord):\n",
    "            theLargestWord = word\n",
    "    return theLargestWord\n",
    "\n",
    "myString = \"Fear leads to anger, anger leads to hate, hate leads to suffering\"\n",
    "\n",
    "print(\"The largest word in the string was: \" + largestWord(myString))"
   ]
  },
  {
   "cell_type": "markdown",
   "id": "c4af06ad",
   "metadata": {},
   "source": [
    "#### Question 5: \n",
    "    \n",
    "Write a function to calculate the sum of the diagonal elements of a **n X n** matrix. \n",
    "\n",
    "function call &rarr; diagonal_sum(   [ [ 1  4  7 ]\n",
    " [ 2  5  8 ]\n",
    " [ 3  6  9 ] ] )\\\n",
    "returns &rarr; 15"
   ]
  },
  {
   "cell_type": "code",
   "execution_count": 32,
   "id": "779fa0af",
   "metadata": {},
   "outputs": [
    {
     "name": "stdout",
     "output_type": "stream",
     "text": [
      "[[ 7  6  4 12 13 17  2 18  3 16]\n",
      " [12  6  4  7  6  2  6  0 13  3]\n",
      " [ 4 10  6 17 12 17 16 16  2 19]\n",
      " [ 6  0 10 18 12 19  0 16  0  8]\n",
      " [19 11 11  2 19 18 19 17 18  6]\n",
      " [ 4 15 17 12 15 16 10  4 16 11]\n",
      " [18  6 12 14  8  5 19 18 15  9]\n",
      " [11 12  1  0 17 11 19  5 14 15]\n",
      " [16  9 11 14 19 11  4 14 15  0]\n",
      " [ 7 14 19 19 17  3  1 19  5  9]]\n",
      "The sum of the main diagonal is: 120\n"
     ]
    }
   ],
   "source": [
    "# Solution - 5\n",
    "\n",
    "import numpy as np\n",
    "\n",
    "def diagonal_sum(matrixIn):\n",
    "    return np.trace(matrixIn)\n",
    "\n",
    "theMatrix = np.random.randint(20, size=(10,10))\n",
    "\n",
    "print(theMatrix)\n",
    "print(\"The sum of the main diagonal is:\", diagonal_sum(theMatrix))\n"
   ]
  },
  {
   "cell_type": "markdown",
   "id": "e18dcbdd",
   "metadata": {},
   "source": [
    "#### Question 6: Given a student score (between 0 and 100), write a function to evaluate the following criteria.\n",
    "\n",
    "- Elgible for funding if the score is greater than 90\n",
    "- Fail if the score is less than 70\n",
    "- Need tutoring if they are not qualified for funding and havent failed.\n",
    " \n",
    "function call → student_assessment(67)\\\n",
    "returns → Fail"
   ]
  },
  {
   "cell_type": "code",
   "execution_count": 35,
   "id": "520a6017",
   "metadata": {},
   "outputs": [
    {
     "name": "stdout",
     "output_type": "stream",
     "text": [
      "stu1  is  Failing\n",
      "stu2  is  Needs toutoring.\n",
      "stu3  is  Needs toutoring.\n",
      "stu4  is  Eligible for funding.\n"
     ]
    }
   ],
   "source": [
    "# Solution - 6\n",
    "\n",
    "def studentAssesment(scoreIn):\n",
    "    if scoreIn > 90:\n",
    "        return \"Eligible for funding.\"\n",
    "    elif scoreIn < 70:\n",
    "        return \"Failing\"\n",
    "    else:\n",
    "        return \"Needs toutoring.\"\n",
    "\n",
    "students = {'stu1': 67, 'stu2': 77, 'stu3': 87, 'stu4': 97}\n",
    "for key, value in students.items():\n",
    "    print(key, \" is \", studentAssesment(value))\n",
    "\n"
   ]
  },
  {
   "cell_type": "markdown",
   "id": "303ae729",
   "metadata": {},
   "source": [
    "#### Question 7: Write a function to check if the given year is a leap year.\n",
    "\n",
    "function call → cheap_leap(1995)\\\n",
    "returns → \"No\""
   ]
  },
  {
   "cell_type": "code",
   "execution_count": 36,
   "id": "748911cd",
   "metadata": {},
   "outputs": [
    {
     "name": "stdout",
     "output_type": "stream",
     "text": [
      "1990 No\n",
      "1991 No\n",
      "1992 is a leap year\n",
      "1993 No\n",
      "1994 No\n",
      "1995 No\n",
      "1996 is a leap year\n",
      "1997 No\n",
      "1998 No\n",
      "1999 No\n",
      "2000 is a leap year\n"
     ]
    }
   ],
   "source": [
    "# Solution - 7\n",
    "\n",
    "def cheapLeap(yearIn):\n",
    "    if yearIn % 4 == 0:\n",
    "        return \"is a leap year\"\n",
    "    else:\n",
    "        return \"No\"\n",
    "\n",
    "for i in range (1990, 2001):\n",
    "    print(i, cheapLeap(i))\n",
    "\n"
   ]
  },
  {
   "cell_type": "markdown",
   "id": "67ea7a6a",
   "metadata": {},
   "source": [
    "#### Question 8: Write a function which returns the number of days in the given month. (You can assume 28 days for February)\n",
    "\n",
    "function call → get_days(\"January\")\\\n",
    "returns → 31"
   ]
  },
  {
   "cell_type": "code",
   "execution_count": 41,
   "id": "afdf7ac2",
   "metadata": {},
   "outputs": [
    {
     "name": "stdout",
     "output_type": "stream",
     "text": [
      "Enter a month\n",
      "The number of days in May is 31\n"
     ]
    }
   ],
   "source": [
    "# Solution - 8\n",
    "\n",
    "longMonths = ('january', 'march', 'may', 'july', 'august', 'october', 'december')\n",
    "shortMonths = ('april', 'june', 'september', 'november')\n",
    "\n",
    "def getDays(monthIn):\n",
    "    if monthIn in longMonths:\n",
    "        return 31\n",
    "    elif monthIn in shortMonths:\n",
    "        return 30\n",
    "    elif monthIn == 'february':\n",
    "        return 28\n",
    "    else:\n",
    "        return \"Invalid Entry\"\n",
    "\n",
    "print(\"Enter a month\")\n",
    "myMonth = input().lower()\n",
    "print(\"The number of days in\", myMonth.title(), \"is\", getDays(myMonth))\n"
   ]
  },
  {
   "cell_type": "markdown",
   "id": "983b7e74",
   "metadata": {},
   "source": [
    "#### Question 9: Write a function which takes the user's weight(in lbs) and height(in inches), and then returns the bmi using the below formula.\n",
    "\n",
    "BMI = Weight X 0.45359/((Height X 0.0254) X Height X 0.0254))\n",
    "\n",
    "function call → calculate_bmi(150, 70)\\\n",
    "returns → 21.522"
   ]
  },
  {
   "cell_type": "code",
   "execution_count": 42,
   "id": "41fcb0a5",
   "metadata": {},
   "outputs": [
    {
     "name": "stdout",
     "output_type": "stream",
     "text": [
      "Enter weight:\n",
      "Enter height:\n",
      "21.522\n"
     ]
    }
   ],
   "source": [
    "# Solution - 9\n",
    "\n",
    "def calculateBMI(h,w):\n",
    "    return (w * 0.45359)/((h * 0.0254)**2)\n",
    "\n",
    "print(\"Enter weight:\")\n",
    "weight = float(input())\n",
    "print(\"Enter height:\")\n",
    "height = float(input())\n",
    "\n",
    "print(f'{calculateBMI(height, weight):.3f}')"
   ]
  },
  {
   "cell_type": "markdown",
   "id": "273584f9",
   "metadata": {},
   "source": [
    "#### Question 10: Write a function to check whether a number is prime or not.\n",
    "\n",
    "function call → check_prime(13)\\\n",
    "returns → \"True\"\n",
    "\n"
   ]
  },
  {
   "cell_type": "markdown",
   "id": "77b9826e",
   "metadata": {},
   "source": [
    "**The code below was dirived from works found on** *[Wikipedia](https://en.wikipedia.org/wiki/Primality_test)*\n",
    "\n",
    "Limited to *i in range (1, 8)* for time sake. "
   ]
  },
  {
   "cell_type": "code",
   "execution_count": 7,
   "id": "3946d678",
   "metadata": {},
   "outputs": [
    {
     "name": "stdout",
     "output_type": "stream",
     "text": [
      "There are 4 prime numbers from 1 to 9\n",
      "There are 25 prime numbers from 1 to 99\n",
      "There are 168 prime numbers from 1 to 999\n",
      "There are 1229 prime numbers from 1 to 9999\n",
      "There are 9592 prime numbers from 1 to 99999\n",
      "There are 78498 prime numbers from 1 to 999999\n",
      "There are 664579 prime numbers from 1 to 9999999\n"
     ]
    }
   ],
   "source": [
    "# Solution - 10     with a little help from Wikipedia\n",
    "\n",
    "def checkPrime(n):\n",
    "    if n <= 3: \n",
    "        return n > 1\n",
    "    elif not n%2 or not n%3:\n",
    "        return False\n",
    "    else:                \n",
    "        i = 5            \n",
    "        end = int(n**0.5)\n",
    "        while i <= end:                                 \n",
    "            if not n%i or not n%(i+2):                  \n",
    "                return False\n",
    "            i += 6                                      \n",
    "        return True\n",
    "    \n",
    "# primes = []\n",
    "\n",
    "for i in range (1,8):\n",
    "    count = 0\n",
    "    for n in range (1, 10 ** i):\n",
    "        if checkPrime(n):\n",
    "            count += 1\n",
    "            #primes.append(n)        \n",
    "    print(\"There are\", count, \"prime numbers from 1 to\", n)\n",
    "    "
   ]
  }
 ],
 "metadata": {
  "kernelspec": {
   "display_name": "Python 3.10.5 64-bit",
   "language": "python",
   "name": "python3"
  },
  "language_info": {
   "codemirror_mode": {
    "name": "ipython",
    "version": 3
   },
   "file_extension": ".py",
   "mimetype": "text/x-python",
   "name": "python",
   "nbconvert_exporter": "python",
   "pygments_lexer": "ipython3",
   "version": "3.10.5"
  },
  "vscode": {
   "interpreter": {
    "hash": "807cc6a481f25a5b222cd58a3949a299ed2f2634387eaba6775d5c01f71eeb59"
   }
  }
 },
 "nbformat": 4,
 "nbformat_minor": 5
}
